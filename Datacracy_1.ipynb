{
  "nbformat": 4,
  "nbformat_minor": 0,
  "metadata": {
    "colab": {
      "provenance": [],
      "authorship_tag": "ABX9TyNMxiIpBPogG7tpWuB1kUxA",
      "include_colab_link": true
    },
    "kernelspec": {
      "name": "python3",
      "display_name": "Python 3"
    },
    "language_info": {
      "name": "python"
    }
  },
  "cells": [
    {
      "cell_type": "markdown",
      "metadata": {
        "id": "view-in-github",
        "colab_type": "text"
      },
      "source": [
        "<a href=\"https://colab.research.google.com/github/YenPhamTh/dataCRACY/blob/master/Datacracy_1.ipynb\" target=\"_parent\"><img src=\"https://colab.research.google.com/assets/colab-badge.svg\" alt=\"Open In Colab\"/></a>"
      ]
    },
    {
      "cell_type": "code",
      "execution_count": null,
      "metadata": {
        "colab": {
          "base_uri": "https://localhost:8080/"
        },
        "id": "ZLURSBSFrDP8",
        "outputId": "114ac79a-f90e-43c4-d782-56a46cbaf915"
      },
      "outputs": [
        {
          "output_type": "stream",
          "name": "stdout",
          "text": [
            "Hello world\n",
            "What's your name?\n",
            "Yen\n",
            "It's nice to meet you, Yen\n",
            "What's your age?\n",
            "30\n",
            "You are getting to U40 soon\n"
          ]
        }
      ],
      "source": [
        "# Your first program\n",
        "print (\"Hello world\")\n",
        "print (\"What's your name?\")\n",
        "myName = input()\n",
        "print (\"It's nice to meet you, \" + myName)\n",
        "print (\"What's your age?\")\n",
        "myAge = input()\n",
        "print (\"You are getting to U40 soon\")"
      ]
    },
    {
      "cell_type": "code",
      "source": [
        "name = ''\n",
        "while not name:\n",
        "  print('Enter your name:')\n",
        "  name = input()\n",
        "print('How many guests will you have?')\n",
        "numOfGuests = int(input())\n",
        "if numOfGuests:\n",
        "  print('Be sure to have enough room for all your guests.')\n",
        "print('Done')"
      ],
      "metadata": {
        "colab": {
          "base_uri": "https://localhost:8080/"
        },
        "id": "dSXVomEi55l7",
        "outputId": "4553326a-d826-4c07-fc07-590a98af4383"
      },
      "execution_count": null,
      "outputs": [
        {
          "output_type": "stream",
          "name": "stdout",
          "text": [
            "Enter your name:\n",
            "Yen\n",
            "How many guests will you have?\n",
            "90\n",
            "Be sure to have enough room for all your guests.\n",
            "Done\n"
          ]
        }
      ]
    },
    {
      "cell_type": "code",
      "source": [
        "while True:\n",
        "  print('Who are you?')\n",
        "  name = input()\n",
        "  if name != 'Joe':\n",
        "    continue\n",
        "  print('Hello, Joe. What is the password? (It is a fish.)')\n",
        "  password = input()\n",
        "  if password == 'swordfish':\n",
        "    break\n",
        "print('Access granted.')"
      ],
      "metadata": {
        "colab": {
          "base_uri": "https://localhost:8080/"
        },
        "id": "mYSVAPVz7I8q",
        "outputId": "93049ff4-7f2b-44fc-d468-660be2dcd937"
      },
      "execution_count": null,
      "outputs": [
        {
          "output_type": "stream",
          "name": "stdout",
          "text": [
            "Who are you?\n",
            "Yen\n",
            "Who are you?\n",
            "Joe\n",
            "Hello, Joe. What is the password? (It is a fish.)\n",
            "haha\n",
            "Who are you?\n",
            "Joe\n",
            "Hello, Joe. What is the password? (It is a fish.)\n",
            "swordfish\n",
            "Access granted.\n"
          ]
        }
      ]
    },
    {
      "cell_type": "code",
      "source": [
        "# Python basics\n",
        "# if, elifelif\n",
        "name = input()\n",
        "age = int(input())\n",
        "if name == 'Alice':\n",
        "  print('Hi, Alice.')\n",
        "elif age < 12:\n",
        "  print('You are not Alice, kiddo.')\n",
        "elif age > 2000:\n",
        "  print('Unlike you, Alice is not an undead, immortal vampire.')\n",
        "elif age > 100:\n",
        "  print('You are not Alice, grannie.')"
      ],
      "metadata": {
        "id": "foe3OdRrkZJk",
        "colab": {
          "base_uri": "https://localhost:8080/"
        },
        "outputId": "869c5f52-bd2c-4540-ec36-e9c39bb7a0c0"
      },
      "execution_count": 8,
      "outputs": [
        {
          "output_type": "stream",
          "name": "stdout",
          "text": [
            "Yen\n",
            "11\n",
            "You are not Alice, kiddo.\n"
          ]
        }
      ]
    },
    {
      "cell_type": "code",
      "source": [
        "# loop statement\n",
        "spam = 0\n",
        "if spam < 5:\n",
        "  print('Hello, world.')\n",
        "  spam = spam + 1\n",
        "  print (spam)"
      ],
      "metadata": {
        "colab": {
          "base_uri": "https://localhost:8080/"
        },
        "id": "zjiYFoLMhmh0",
        "outputId": "5e3f264a-32be-4349-e9ac-26a29b9b3b3a"
      },
      "execution_count": 14,
      "outputs": [
        {
          "output_type": "stream",
          "name": "stdout",
          "text": [
            "Hello, world.\n",
            "1\n"
          ]
        }
      ]
    },
    {
      "cell_type": "code",
      "source": [
        "spam = 0\n",
        "while spam < 5:\n",
        "  print('Hello, world.')\n",
        "  spam = spam + 1"
      ],
      "metadata": {
        "colab": {
          "base_uri": "https://localhost:8080/"
        },
        "id": "QT8oVUxUiRzs",
        "outputId": "17593811-7818-45e3-ecfe-2fcf55b52988"
      },
      "execution_count": 12,
      "outputs": [
        {
          "output_type": "stream",
          "name": "stdout",
          "text": [
            "Hello, world.\n",
            "Hello, world.\n",
            "Hello, world.\n",
            "Hello, world.\n",
            "Hello, world.\n"
          ]
        }
      ]
    },
    {
      "cell_type": "code",
      "source": [
        "name = ''\n",
        "while name != 'YenYen':\n",
        "  print('Please type your name.')\n",
        "  name = input()\n",
        "print('Thank you!')"
      ],
      "metadata": {
        "colab": {
          "base_uri": "https://localhost:8080/"
        },
        "id": "nfATiTZKjgh0",
        "outputId": "ba1f712a-a703-4593-d250-14c72433ba3e"
      },
      "execution_count": 17,
      "outputs": [
        {
          "output_type": "stream",
          "name": "stdout",
          "text": [
            "Please type your name.\n",
            "yen\n",
            "Please type your name.\n",
            "yenyen\n",
            "Please type your name.\n",
            "YenYen\n",
            "Thank you!\n"
          ]
        }
      ]
    },
    {
      "cell_type": "code",
      "source": [
        "while True:\n",
        "  print('Please type your name.')\n",
        "  name = input()\n",
        "  if name == 'your name':\n",
        "    break\n",
        "print('Thank you!')"
      ],
      "metadata": {
        "colab": {
          "base_uri": "https://localhost:8080/"
        },
        "id": "udATCOc1pnWb",
        "outputId": "42780fe5-1082-467f-b07d-170309f75334"
      },
      "execution_count": 18,
      "outputs": [
        {
          "output_type": "stream",
          "name": "stdout",
          "text": [
            "Please type your name.\n",
            "Yen\n",
            "Please type your name.\n",
            "hello\n",
            "Please type your name.\n",
            "your name\n",
            "Thank you!\n"
          ]
        }
      ]
    },
    {
      "cell_type": "code",
      "source": [
        "while True:\n",
        "  print('Who are you?')\n",
        "  name = input()\n",
        "  if name != 'Joe':\n",
        "    continue\n",
        "  print('Hello, Joe. What is the password? (It is a fish.)')\n",
        "  password = input()\n",
        "  if password == 'swordfish':\n",
        "    break\n",
        "print('Access granted.')"
      ],
      "metadata": {
        "colab": {
          "base_uri": "https://localhost:8080/"
        },
        "id": "E7kQhBiNqNaD",
        "outputId": "ad68835f-a688-411d-bead-5104c59235e0"
      },
      "execution_count": 20,
      "outputs": [
        {
          "output_type": "stream",
          "name": "stdout",
          "text": [
            "Who are you?\n",
            "Yen\n",
            "Who are you?\n",
            "Joe\n",
            "Hello, Joe. What is the password? (It is a fish.)\n",
            "hello\n",
            "Who are you?\n",
            "Joe\n",
            "Hello, Joe. What is the password? (It is a fish.)\n",
            "swordfish\n",
            "Access granted.\n"
          ]
        }
      ]
    },
    {
      "cell_type": "code",
      "source": [
        "print('My name is')\n",
        "for i in range(5):\n",
        "  print('Jimmy Five Times (' + str(i) + ')')"
      ],
      "metadata": {
        "colab": {
          "base_uri": "https://localhost:8080/"
        },
        "id": "DZBxIYPcqpxT",
        "outputId": "21658535-8324-4109-d710-de51e0423f47"
      },
      "execution_count": 21,
      "outputs": [
        {
          "output_type": "stream",
          "name": "stdout",
          "text": [
            "My name is\n",
            "Jimmy Five Times (0)\n",
            "Jimmy Five Times (1)\n",
            "Jimmy Five Times (2)\n",
            "Jimmy Five Times (3)\n",
            "Jimmy Five Times (4)\n"
          ]
        }
      ]
    },
    {
      "cell_type": "code",
      "source": [
        "total = 0\n",
        "for num in range(101):\n",
        "  total = total + num\n",
        "print(total)"
      ],
      "metadata": {
        "colab": {
          "base_uri": "https://localhost:8080/"
        },
        "id": "BrZLobBbq4QD",
        "outputId": "4dec956f-fc7f-4891-af28-17b955c0720f"
      },
      "execution_count": 22,
      "outputs": [
        {
          "output_type": "stream",
          "name": "stdout",
          "text": [
            "5050\n"
          ]
        }
      ]
    },
    {
      "cell_type": "code",
      "source": [
        "# Built-in functions\n",
        "# import module --> access to all functions built-in\n",
        "import random\n",
        "for i in range(5):\n",
        "  print(random.randint(1, 10))"
      ],
      "metadata": {
        "colab": {
          "base_uri": "https://localhost:8080/"
        },
        "id": "Z8bcp2VGtHGy",
        "outputId": "5b0fde77-76ab-4f4c-b40a-2585e835746f"
      },
      "execution_count": 23,
      "outputs": [
        {
          "output_type": "stream",
          "name": "stdout",
          "text": [
            "4\n",
            "5\n",
            "10\n",
            "2\n",
            "1\n"
          ]
        }
      ]
    },
    {
      "cell_type": "code",
      "source": [
        "import sys\n",
        "while True:\n",
        "  print('Type exit to exit.')\n",
        "  response = input()\n",
        "  if response == 'exit':\n",
        "    sys.exit()\n",
        "  print('You typed ' + response + '.')"
      ],
      "metadata": {
        "colab": {
          "base_uri": "https://localhost:8080/",
          "height": 183
        },
        "id": "Z03XVfalt2hE",
        "outputId": "5ba7dc2c-7a0e-400d-91dd-56c996057f08"
      },
      "execution_count": 25,
      "outputs": [
        {
          "name": "stdout",
          "output_type": "stream",
          "text": [
            "Type exit to exit.\n",
            "exit\n"
          ]
        },
        {
          "output_type": "error",
          "ename": "SystemExit",
          "evalue": "ignored",
          "traceback": [
            "An exception has occurred, use %tb to see the full traceback.\n",
            "\u001b[0;31mSystemExit\u001b[0m\n"
          ]
        },
        {
          "output_type": "stream",
          "name": "stderr",
          "text": [
            "/usr/local/lib/python3.8/dist-packages/IPython/core/interactiveshell.py:3334: UserWarning: To exit: use 'exit', 'quit', or Ctrl-D.\n",
            "  warn(\"To exit: use 'exit', 'quit', or Ctrl-D.\", stacklevel=1)\n"
          ]
        }
      ]
    },
    {
      "cell_type": "code",
      "source": [],
      "metadata": {
        "id": "9vByhRw6veKT"
      },
      "execution_count": null,
      "outputs": []
    },
    {
      "cell_type": "markdown",
      "source": [
        "Boolean data type: True / False\n",
        "\n",
        "three Boolean operators: binary, not, combine Boolean and Comparison\n",
        "\n",
        "Write out the truth tables of each Boolean operator (that is, every\n",
        "possible combination of Boolean values for the operator and what\n",
        "they evaluate to).\n",
        "  True and True\n",
        "  True and False\n",
        "  False and False\n",
        "  True or False"
      ],
      "metadata": {
        "id": "e_wBQLvIveyy"
      }
    },
    {
      "cell_type": "code",
      "source": [
        "# Write code that prints Hello if 1 is stored in spam, prints Howdy if 2 is\n",
        "# stored in spam, and prints Greetings! if anything else is stored in spam.\n",
        "spam = int(input())\n",
        "if spam == 1:\n",
        "  print ('Hello')\n",
        "elif spam == 2:\n",
        "  print ('Howdy')"
      ],
      "metadata": {
        "colab": {
          "base_uri": "https://localhost:8080/"
        },
        "id": "eVupksUDwpV7",
        "outputId": "55a6c89c-9165-42c8-dfb6-54a3174650df"
      },
      "execution_count": 28,
      "outputs": [
        {
          "output_type": "stream",
          "name": "stdout",
          "text": [
            "1\n",
            "Hello\n"
          ]
        }
      ]
    },
    {
      "cell_type": "code",
      "source": [
        "for i in range(0,10,3):\n",
        "  print (i)"
      ],
      "metadata": {
        "colab": {
          "base_uri": "https://localhost:8080/"
        },
        "id": "n-pgTSTFxvas",
        "outputId": "ab6b4095-cfbf-4750-c08f-8db1242cbaaf"
      },
      "execution_count": 37,
      "outputs": [
        {
          "output_type": "stream",
          "name": "stdout",
          "text": [
            "0\n",
            "3\n",
            "6\n",
            "9\n"
          ]
        }
      ]
    },
    {
      "cell_type": "code",
      "source": [
        "#Write a short program that prints the numbers 1 to 10 using a for loop.\n",
        "#Then write an equivalent program that prints the numbers 1 to 10 using a while loop\n",
        "for i in range(1,10):\n",
        "    print (i)"
      ],
      "metadata": {
        "colab": {
          "base_uri": "https://localhost:8080/"
        },
        "id": "9rIL5CPmy6Tk",
        "outputId": "b18374c4-2a90-4ab8-a12a-cf66d6f871ac"
      },
      "execution_count": 38,
      "outputs": [
        {
          "output_type": "stream",
          "name": "stdout",
          "text": [
            "1\n",
            "2\n",
            "3\n",
            "4\n",
            "5\n",
            "6\n",
            "7\n",
            "8\n",
            "9\n"
          ]
        }
      ]
    },
    {
      "cell_type": "code",
      "source": [
        "i = 1\n",
        "while(i<=10):\n",
        "    print(i)\n",
        "    i += 1"
      ],
      "metadata": {
        "colab": {
          "base_uri": "https://localhost:8080/"
        },
        "id": "PR0p65Hrzx7m",
        "outputId": "26e4aadc-3b5c-4566-f17d-13da4ebed363"
      },
      "execution_count": 40,
      "outputs": [
        {
          "output_type": "stream",
          "name": "stdout",
          "text": [
            "1\n",
            "2\n",
            "3\n",
            "4\n",
            "5\n",
            "6\n",
            "7\n",
            "8\n",
            "9\n",
            "10\n"
          ]
        }
      ]
    },
    {
      "cell_type": "code",
      "source": [
        "abs(-5)"
      ],
      "metadata": {
        "colab": {
          "base_uri": "https://localhost:8080/"
        },
        "id": "31PRc9oU1Mbj",
        "outputId": "d5414b8f-35fe-4362-e4c7-6755b3ae8a62"
      },
      "execution_count": 44,
      "outputs": [
        {
          "output_type": "execute_result",
          "data": {
            "text/plain": [
              "5"
            ]
          },
          "metadata": {},
          "execution_count": 44
        }
      ]
    },
    {
      "cell_type": "markdown",
      "source": [
        "function is like a mini-program within a program"
      ],
      "metadata": {
        "id": "6t1DuAB81iQ5"
      }
    },
    {
      "cell_type": "code",
      "source": [
        "def hello(): #which defines a function named hello()\n",
        "  print('Howdy!')\n",
        "  print('Howdy!!!')\n",
        "  print('Hello there.')\n",
        "hello() #A major purpose of functions is to group code that gets executed multiple times."
      ],
      "metadata": {
        "colab": {
          "base_uri": "https://localhost:8080/"
        },
        "id": "f8Y-ssdc1kkK",
        "outputId": "f4e89a5a-8708-489b-fc81-f15a71f1cd36"
      },
      "execution_count": 46,
      "outputs": [
        {
          "output_type": "stream",
          "name": "stdout",
          "text": [
            "Howdy!\n",
            "Howdy!!!\n",
            "Hello there.\n"
          ]
        }
      ]
    },
    {
      "cell_type": "code",
      "source": [
        "def hello(name):\n",
        "  print('Hello ' + name)\n",
        "hello('Alice')\n",
        "hello('Bob')"
      ],
      "metadata": {
        "colab": {
          "base_uri": "https://localhost:8080/"
        },
        "id": "GrpUF5s43m6K",
        "outputId": "1ddc0db4-28b4-4f9a-fcbb-ad5cceb8b867"
      },
      "execution_count": 47,
      "outputs": [
        {
          "output_type": "stream",
          "name": "stdout",
          "text": [
            "Hello Alice\n",
            "Hello Bob\n"
          ]
        }
      ]
    },
    {
      "cell_type": "code",
      "source": [
        "import random\n",
        "messages = ['It is certain',\n",
        "'It is decidedly so',\n",
        "'Yes definitely',\n",
        "'Reply hazy try again',\n",
        "'Ask again later',\n",
        "'Concentrate and ask again',\n",
        "'My reply is no',\n",
        "'Outlook not so good',\n",
        "'Very doubtful']\n",
        "print(messages[random.randint(0, len(messages) - 1)])"
      ],
      "metadata": {
        "colab": {
          "base_uri": "https://localhost:8080/"
        },
        "id": "pXd9zYdV6c_C",
        "outputId": "d9b936c3-3b35-4efd-889d-0042c01a8e09"
      },
      "execution_count": 48,
      "outputs": [
        {
          "output_type": "stream",
          "name": "stdout",
          "text": [
            "Concentrate and ask again\n"
          ]
        }
      ]
    },
    {
      "cell_type": "code",
      "source": [
        "myCat = {'size': 'fat', 'color': 'gray', 'disposition': 'loud'}"
      ],
      "metadata": {
        "id": "CnsRHSti9TL6"
      },
      "execution_count": 49,
      "outputs": []
    }
  ]
}